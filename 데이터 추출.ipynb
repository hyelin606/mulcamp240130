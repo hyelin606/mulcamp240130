{
 "cells": [
  {
   "cell_type": "code",
   "execution_count": 4,
   "id": "b7c09777-de62-4a07-8422-5edc03c178d8",
   "metadata": {
    "tags": []
   },
   "outputs": [
    {
     "name": "stdout",
     "output_type": "stream",
     "text": [
      "       product_id                                       product_name  \\\n",
      "33626       33627                                        Mix Popcorn   \n",
      "18192       18193                          Tangerine Lime Drink Tabs   \n",
      "47099       47100        Fire Roasted Diced Tomatoes With Seasonings   \n",
      "48183       48184                                          Soy Curls   \n",
      "22197       22198  4X Ultra Concentrated Natural Laundry Detergen...   \n",
      "...           ...                                                ...   \n",
      "38624       38625                            Tomato Sauce With Basil   \n",
      "7598         7599                    Sensor 2 Plus Disposable Razors   \n",
      "4729         4730                     Original Toothbrush Soft Right   \n",
      "29959       29960                              Acini di Pepe, No. 78   \n",
      "7514         7515                        Spinach And Ricotta Ravioli   \n",
      "\n",
      "       aisle_id  department_id  \n",
      "33626       107             19  \n",
      "18192       100             21  \n",
      "47099        81             15  \n",
      "48183       107             19  \n",
      "22197        75             17  \n",
      "...         ...            ...  \n",
      "38624         9              9  \n",
      "7598         55             11  \n",
      "4729         20             11  \n",
      "29959       131              9  \n",
      "7514          2             16  \n",
      "\n",
      "[100 rows x 4 columns]\n"
     ]
    }
   ],
   "source": [
    "import pandas as pd\n",
    "\n",
    "# 'data/products.csv/products.csv' 파일을 읽어옴\n",
    "df = pd.read_csv('data/products.csv/products.csv')\n",
    "\n",
    "# 데이터프레임에서 무작위로 100개의 행을 추출\n",
    "random_sample = df.sample(n=100, random_state=42)  # random_state는 재현성을 위한 시드값\n",
    "\n",
    "# 새로운 CSV 파일로 저장\n",
    "random_sample.to_csv('data/random_sample_product.csv', index=False)\n",
    "\n",
    "# 저장된 데이터프레임 확인\n",
    "print(random_sample)"
   ]
  },
  {
   "cell_type": "code",
   "execution_count": 5,
   "id": "a0dccce8-9984-440c-ac11-1e5213fc7df5",
   "metadata": {
    "tags": []
   },
   "outputs": [
    {
     "name": "stdout",
     "output_type": "stream",
     "text": [
      "       order_id     products\n",
      "26837   1220848  39276 29259\n",
      "2592     119797  39276 29259\n",
      "18359    836759  39276 29259\n",
      "73292   3342697  39276 29259\n",
      "60127   2742073  39276 29259\n",
      "...         ...          ...\n",
      "549       25662  39276 29259\n",
      "14848    675475  39276 29259\n",
      "55576   2533847  39276 29259\n",
      "68058   3100564  39276 29259\n",
      "26332   1199424  39276 29259\n",
      "\n",
      "[100 rows x 2 columns]\n"
     ]
    }
   ],
   "source": [
    "import pandas as pd\n",
    "\n",
    "# 'data/sample_submission.csv/sample_submission.csv' 파일을 읽어옴\n",
    "df = pd.read_csv('data/sample_submission.csv/sample_submission.csv')\n",
    "\n",
    "# 데이터프레임에서 무작위로 100개의 행을 추출\n",
    "random_sample = df.sample(n=100, random_state=42)  # random_state는 재현성을 위한 시드값\n",
    "\n",
    "# 새로운 CSV 파일로 저장\n",
    "random_sample.to_csv('data/random_sample_submission.csv', index=False)\n",
    "\n",
    "# 저장된 데이터프레임 확인\n",
    "print(random_sample)"
   ]
  },
  {
   "cell_type": "code",
   "execution_count": 6,
   "id": "9afb610c-8607-4465-a150-57fffc0e0118",
   "metadata": {
    "tags": []
   },
   "outputs": [
    {
     "name": "stdout",
     "output_type": "stream",
     "text": [
      "         order_id  user_id eval_set  order_number  order_dow  \\\n",
      "1497021   1725437    89960    prior             5          0   \n",
      "2620978   1122088   157793    prior             6          3   \n",
      "1973967    352443   118560    prior             1          5   \n",
      "3021266   2225015   182324    prior            16          6   \n",
      "1454633   1083635    87386    prior            10          1   \n",
      "...           ...      ...      ...           ...        ...   \n",
      "501392     604890    30237    prior             4          3   \n",
      "1093815   1262838    65900    prior             5          6   \n",
      "2009829   2397162   120776    prior            23          0   \n",
      "1416224   2106974    85085    prior             4          4   \n",
      "389222    1679933    23383    prior            23          6   \n",
      "\n",
      "         order_hour_of_day  days_since_prior_order  \n",
      "1497021                 14                    14.0  \n",
      "2620978                  8                     4.0  \n",
      "1973967                 11                     NaN  \n",
      "3021266                 13                     6.0  \n",
      "1454633                 10                     4.0  \n",
      "...                    ...                     ...  \n",
      "501392                   8                    15.0  \n",
      "1093815                  6                     8.0  \n",
      "2009829                 12                     5.0  \n",
      "1416224                 15                    17.0  \n",
      "389222                   8                     1.0  \n",
      "\n",
      "[100 rows x 7 columns]\n"
     ]
    }
   ],
   "source": [
    "import pandas as pd\n",
    "\n",
    "# 'data/orders.csv/orders.csv' 파일을 읽어옴\n",
    "df_orders = pd.read_csv('data/orders.csv/orders.csv')\n",
    "\n",
    "# 데이터프레임에서 무작위로 100개의 행을 추출\n",
    "random_sample_orders = df_orders.sample(n=100, random_state=42)  # random_state는 재현성을 위한 시드값\n",
    "\n",
    "# 새로운 CSV 파일로 저장\n",
    "random_sample_orders.to_csv('data/random_sample_orders.csv', index=False)\n",
    "\n",
    "# 저장된 데이터프레임 확인\n",
    "print(random_sample_orders)"
   ]
  },
  {
   "cell_type": "code",
   "execution_count": 7,
   "id": "e6677f56-c55e-4dd5-bc60-6924b520d274",
   "metadata": {
    "tags": []
   },
   "outputs": [
    {
     "name": "stdout",
     "output_type": "stream",
     "text": [
      "         order_id  product_id  add_to_cart_order  reordered\n",
      "619147    1523583       37203                  3          0\n",
      "1208847   2985500       35108                  4          1\n",
      "42965      105797       37141                  2          0\n",
      "760387    1872331       12834                  7          0\n",
      "416646    1020675       48775                  2          0\n",
      "...           ...         ...                ...        ...\n",
      "145215     354515       36735                  9          1\n",
      "50700      124840       47766                  2          1\n",
      "1289304   3184486       26940                  8          1\n",
      "564914    1388269        2180                  5          1\n",
      "865835    2135642       28682                 12          0\n",
      "\n",
      "[100 rows x 4 columns]\n"
     ]
    }
   ],
   "source": [
    "import pandas as pd\n",
    "\n",
    "# './data/order_products__train.csv/order_products__train.csv' 파일을 읽어옴\n",
    "df_order_products_train = pd.read_csv('./data/order_products__train.csv/order_products__train.csv')\n",
    "\n",
    "# 데이터프레임에서 무작위로 100개의 행을 추출\n",
    "random_sample_order_products_train = df_order_products_train.sample(n=100, random_state=42)  # random_state는 재현성을 위한 시드값\n",
    "\n",
    "# 새로운 CSV 파일로 저장\n",
    "random_sample_order_products_train.to_csv('./data/random_sample_order_products_train.csv', index=False)\n",
    "\n",
    "# 저장된 데이터프레임 확인\n",
    "print(random_sample_order_products_train)"
   ]
  },
  {
   "cell_type": "code",
   "execution_count": 8,
   "id": "2854e284-cb5f-40a2-8568-079124f76bcf",
   "metadata": {
    "tags": []
   },
   "outputs": [
    {
     "name": "stdout",
     "output_type": "stream",
     "text": [
      "          order_id  product_id  add_to_cart_order  reordered\n",
      "29481110   3109255       34099                 16          0\n",
      "2852353     301098       41950                  5          0\n",
      "11194500   1181866       45066                  8          0\n",
      "15909397   1678630        8859                  2          1\n",
      "6101870     644090       24781                  2          0\n",
      "...            ...         ...                ...        ...\n",
      "5596575     590740       44661                  2          1\n",
      "21919685   2312043       39275                 14          1\n",
      "6441864     679792       38342                 15          0\n",
      "16524816   1743216       24852                  6          1\n",
      "13163510   1389353        4210                  6          1\n",
      "\n",
      "[100 rows x 4 columns]\n"
     ]
    }
   ],
   "source": [
    "import pandas as pd\n",
    "\n",
    "# './data/order_products__prior.csv/order_products__prior.csv' 파일을 읽어옴\n",
    "df_order_products_prior = pd.read_csv('./data/order_products__prior.csv/order_products__prior.csv')\n",
    "\n",
    "# 데이터프레임에서 무작위로 100개의 행을 추출\n",
    "random_sample_order_products_prior = df_order_products_prior.sample(n=100, random_state=42)  # random_state는 재현성을 위한 시드값\n",
    "\n",
    "# 새로운 CSV 파일로 저장\n",
    "random_sample_order_products_prior.to_csv('./data/random_sample_order_products_prior.csv', index=False)\n",
    "\n",
    "# 저장된 데이터프레임 확인\n",
    "print(random_sample_order_products_prior)"
   ]
  },
  {
   "cell_type": "code",
   "execution_count": null,
   "id": "c255fb44-9be3-471f-b20b-0fac9481fc4c",
   "metadata": {},
   "outputs": [],
   "source": []
  }
 ],
 "metadata": {
  "kernelspec": {
   "display_name": "Python 3 (ipykernel)",
   "language": "python",
   "name": "python3"
  },
  "language_info": {
   "codemirror_mode": {
    "name": "ipython",
    "version": 3
   },
   "file_extension": ".py",
   "mimetype": "text/x-python",
   "name": "python",
   "nbconvert_exporter": "python",
   "pygments_lexer": "ipython3",
   "version": "3.11.5"
  }
 },
 "nbformat": 4,
 "nbformat_minor": 5
}
